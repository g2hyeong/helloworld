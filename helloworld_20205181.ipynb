{
  "nbformat": 4,
  "nbformat_minor": 0,
  "metadata": {
    "colab": {
      "name": "helloworld_20205181.ipynb",
      "provenance": [],
      "authorship_tag": "ABX9TyOQnEW+GziSRurV9Val/dH3",
      "include_colab_link": true
    },
    "kernelspec": {
      "name": "python3",
      "display_name": "Python 3"
    }
  },
  "cells": [
    {
      "cell_type": "markdown",
      "metadata": {
        "id": "view-in-github",
        "colab_type": "text"
      },
      "source": [
        "<a href=\"https://colab.research.google.com/github/g2hyeong/helloworld/blob/main/helloworld_20205181.ipynb\" target=\"_parent\"><img src=\"https://colab.research.google.com/assets/colab-badge.svg\" alt=\"Open In Colab\"/></a>"
      ]
    },
    {
      "cell_type": "code",
      "metadata": {
        "id": "vaTIqkSqj_iU",
        "outputId": "8c2f9f2a-1b6b-4fca-e13c-21c6b3017087",
        "colab": {
          "base_uri": "https://localhost:8080/",
          "height": 34
        }
      },
      "source": [
        "print('helloworld', 20205181)"
      ],
      "execution_count": 1,
      "outputs": [
        {
          "output_type": "stream",
          "text": [
            "helloworld 20205181\n"
          ],
          "name": "stdout"
        }
      ]
    }
  ]
}